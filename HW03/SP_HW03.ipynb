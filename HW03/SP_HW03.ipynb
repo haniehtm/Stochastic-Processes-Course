{
  "nbformat": 4,
  "nbformat_minor": 0,
  "metadata": {
    "colab": {
      "provenance": []
    },
    "kernelspec": {
      "name": "python3",
      "display_name": "Python 3"
    },
    "language_info": {
      "name": "python"
    }
  },
  "cells": [
    {
      "cell_type": "markdown",
      "source": [
        "For normal datas run this block"
      ],
      "metadata": {
        "id": "MS066T7C82Bp"
      }
    },
    {
      "cell_type": "code",
      "execution_count": 137,
      "metadata": {
        "id": "ggrNPi24-LFm"
      },
      "outputs": [],
      "source": [
        "# Import needed libraries\n",
        "import numpy as np\n",
        "from numpy import inf\n",
        "import matplotlib.pyplot as plt\n",
        "from scipy import stats"
      ]
    },
    {
      "cell_type": "code",
      "source": [
        "# Generate n random numbers with normal distribution\n",
        "datanumbers = int(input('Enter numbers of random data you want to gerenate: '))\n",
        "random_number = np.random.normal(0, 1, 1000000)\n",
        "data = np.random.choice(random_number, datanumbers , replace = False)"
      ],
      "metadata": {
        "colab": {
          "base_uri": "https://localhost:8080/"
        },
        "id": "6Mcp8sg-Sq1W",
        "outputId": "d1255be7-5103-4346-e2b6-23b96844ace8"
      },
      "execution_count": 133,
      "outputs": [
        {
          "name": "stdout",
          "output_type": "stream",
          "text": [
            "Enter numbers of random data you want to gerenate: 1000000\n"
          ]
        }
      ]
    },
    {
      "cell_type": "markdown",
      "source": [
        "for Autoregressive data run this block."
      ],
      "metadata": {
        "id": "PoY7UWDv88tM"
      }
    },
    {
      "cell_type": "code",
      "source": [
        "#read Autoregressive data\n",
        "data = np.loadtxt('mydataset.txt')"
      ],
      "metadata": {
        "id": "dO5gWly28m94"
      },
      "execution_count": 125,
      "outputs": []
    },
    {
      "cell_type": "markdown",
      "source": [
        "Exercise 4 data"
      ],
      "metadata": {
        "id": "J1ov93FAZ5gx"
      }
    },
    {
      "cell_type": "code",
      "source": [
        "from google.colab import drive\n",
        "drive.mount('/content/drive')\n",
        "\n",
        "df = np.loadtxt('/content/drive/MyDrive/data/0-001.txt')\n",
        "\n",
        "datanumbers = int(input('Enter numbers of random data you want to gerenate: '))\n",
        "data = df[:datanumbers]"
      ],
      "metadata": {
        "colab": {
          "base_uri": "https://localhost:8080/"
        },
        "id": "5dGW40OtZ4C-",
        "outputId": "1990d08e-18ab-4ce9-bb69-a6ebe03c0ea4"
      },
      "execution_count": 147,
      "outputs": [
        {
          "name": "stdout",
          "output_type": "stream",
          "text": [
            "Drive already mounted at /content/drive; to attempt to forcibly remount, call drive.mount(\"/content/drive\", force_remount=True).\n",
            "Enter numbers of random data you want to gerenate: 10000\n"
          ]
        }
      ]
    },
    {
      "cell_type": "code",
      "source": [
        "def split_array(array, l):\n",
        "    # Calculate the number of parts\n",
        "    num_parts = len(array) // l\n",
        "\n",
        "    # Split the array into parts of length l\n",
        "    parts = np.array_split(array, num_parts)\n",
        "\n",
        "    return parts\n",
        "\n",
        "# Specify the length of each part\n",
        "length_of_each_part = 3\n",
        "errors = []\n",
        "average_variance = []\n",
        "l = []\n",
        "while length_of_each_part <= (int(len(data)/3)-1):\n",
        "  l.append(length_of_each_part)\n",
        "  result = split_array(data, length_of_each_part)\n",
        "  variance = []\n",
        "  for i in range(len(result)):\n",
        "    vari = np.var(result[i])\n",
        "    variance.append(vari)\n",
        "  av_vari = sum(variance) / len(variance)\n",
        "  average_variance.append(av_vari)\n",
        "  variance = np.array(variance)\n",
        "  error = np.sqrt((np.sum(((variance**(2)) - av_vari)**2)) / (len(variance)*(len(variance)-1)))\n",
        "  errors.append(error)\n",
        "  length_of_each_part = length_of_each_part + 1\n",
        "\n",
        "errors = np.array(errors)\n",
        "from numpy import inf\n",
        "errors[errors == inf] = 0"
      ],
      "metadata": {
        "id": "QHeh0tzI0Bio"
      },
      "execution_count": 148,
      "outputs": []
    },
    {
      "cell_type": "code",
      "source": [
        "for ele in average_variance:\n",
        "  if ele == average_variance[-1]:\n",
        "    n = average_variance.index(ele)\n",
        "    print('Second Order Stationary Lenght:',l[n])\n",
        "    break"
      ],
      "metadata": {
        "colab": {
          "base_uri": "https://localhost:8080/"
        },
        "id": "EwjYy6xVzEcg",
        "outputId": "f14ced0b-81b0-47f9-d261-1b596d25ee79"
      },
      "execution_count": 149,
      "outputs": [
        {
          "output_type": "stream",
          "name": "stdout",
          "text": [
            "Second Order Stationary Lenght: 2501\n"
          ]
        }
      ]
    },
    {
      "cell_type": "code",
      "source": [
        "l = np.array(l)\n",
        "average_variance = np.array(average_variance)\n",
        "errors = np.array(errors)\n",
        "\n",
        "plt.plot(l,average_variance, label='Orginal data')\n",
        "\n",
        "slicenumber = 100\n",
        "lnew = l[::slicenumber]\n",
        "errorsnew = errors[::slicenumber]\n",
        "average_variancenew =average_variance[::slicenumber]\n",
        "\n",
        "plt.plot(lnew,average_variancenew, label='Smoother data')\n",
        "plt.errorbar(lnew, average_variancenew, yerr=errorsnew, fmt='none', color='#660066', capsize=2, label='error bars')\n",
        "plt.legend()\n",
        "plt.xlabel(\"L\")\n",
        "plt.ylabel(\"average variance\")\n",
        "plt.title(f'Average variance plot in terms of L for {datanumbers} data with normal distribution')\n",
        "plt.show()"
      ],
      "metadata": {
        "colab": {
          "base_uri": "https://localhost:8080/",
          "height": 472
        },
        "id": "7GEdzDpX0gRO",
        "outputId": "35a71ae9-7ac5-4db6-8e12-5dc89fd1fd48"
      },
      "execution_count": 152,
      "outputs": [
        {
          "output_type": "display_data",
          "data": {
            "text/plain": [
              "<Figure size 640x480 with 1 Axes>"
            ],
            "image/png": "[encoded data removed]"
          },
          "metadata": {}
        }
      ]
    },
    {
      "cell_type": "code",
      "source": [
        "import pandas as pd\n",
        "from statsmodels.tsa.stattools import adfuller\n",
        "\n",
        "\n",
        "res = adfuller(data)\n",
        "\n",
        "# Printing the statistical result of the adfuller test\n",
        "print('Augmneted Dickey_fuller Statistic: %f' % res[0])\n",
        "print('p-value: %f' % res[1])\n",
        "\n",
        "# printing the critical values at different alpha levels.\n",
        "print('critical values at different levels:')\n",
        "for k, v in res[4].items():\n",
        "    print('\\t%s: %.3f' % (k, v))"
      ],
      "metadata": {
        "colab": {
          "base_uri": "https://localhost:8080/"
        },
        "id": "ShAI-1qYaAv-",
        "outputId": "d1e13dc9-1c5c-4384-d0ce-8d9ff22fea1e"
      },
      "execution_count": 151,
      "outputs": [
        {
          "output_type": "stream",
          "name": "stdout",
          "text": [
            "Augmneted Dickey_fuller Statistic: -2.133389\n",
            "p-value: 0.231302\n",
            "critical values at different levels:\n",
            "\t1%: -3.431\n",
            "\t5%: -2.862\n",
            "\t10%: -2.567\n"
          ]
        }
      ]
    }
  ]
}